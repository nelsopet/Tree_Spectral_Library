{
 "cells": [
  {
   "cell_type": "code",
   "execution_count": 6,
   "source": [
    "library(tidyverse)"
   ],
   "outputs": [
    {
     "output_type": "stream",
     "name": "stderr",
     "text": [
      "Warning message:\n",
      "\"package 'tidyverse' was built under R version 4.1.1\"\n",
      "-- \u001b[1mAttaching packages\u001b[22m --------------------------------------- tidyverse 1.3.1 --\n",
      "\n",
      "\u001b[32mv\u001b[39m \u001b[34mggplot2\u001b[39m 3.3.5     \u001b[32mv\u001b[39m \u001b[34mpurrr  \u001b[39m 0.3.4\n",
      "\u001b[32mv\u001b[39m \u001b[34mtibble \u001b[39m 3.1.4     \u001b[32mv\u001b[39m \u001b[34mdplyr  \u001b[39m 1.0.7\n",
      "\u001b[32mv\u001b[39m \u001b[34mtidyr  \u001b[39m 1.1.3     \u001b[32mv\u001b[39m \u001b[34mstringr\u001b[39m 1.4.0\n",
      "\u001b[32mv\u001b[39m \u001b[34mreadr  \u001b[39m 2.0.1     \u001b[32mv\u001b[39m \u001b[34mforcats\u001b[39m 0.5.1\n",
      "\n",
      "Warning message:\n",
      "\"package 'ggplot2' was built under R version 4.1.1\"\n",
      "Warning message:\n",
      "\"package 'tibble' was built under R version 4.1.1\"\n",
      "Warning message:\n",
      "\"package 'readr' was built under R version 4.1.1\"\n",
      "Warning message:\n",
      "\"package 'stringr' was built under R version 4.1.1\"\n",
      "-- \u001b[1mConflicts\u001b[22m ------------------------------------------ tidyverse_conflicts() --\n",
      "\u001b[31mx\u001b[39m \u001b[34mdplyr\u001b[39m::\u001b[32mfilter()\u001b[39m masks \u001b[34mstats\u001b[39m::filter()\n",
      "\u001b[31mx\u001b[39m \u001b[34mdplyr\u001b[39m::\u001b[32mlag()\u001b[39m    masks \u001b[34mstats\u001b[39m::lag()\n",
      "\n"
     ]
    }
   ],
   "metadata": {}
  },
  {
   "cell_type": "code",
   "execution_count": 43,
   "source": [
    "check_intercept <- function(a,b,d, tolerance = 0.00001) {\n",
    "    value <- 0.01 * a * sin((2 * pi / b) * d)\n",
    "    rounded_value <- 0.01 * round(value)\n",
    "    test_val <- abs(value - rounded_value)\n",
    "    return(test_val < tolerance)\n",
    "}"
   ],
   "outputs": [],
   "metadata": {}
  },
  {
   "cell_type": "code",
   "execution_count": 3,
   "source": [
    "target_function <- function(x, a, b, c, d) {\n",
    "    return( c + a * sin((2 * pi / b) * x + d) )\n",
    "}"
   ],
   "outputs": [],
   "metadata": {}
  },
  {
   "cell_type": "code",
   "execution_count": 52,
   "source": [
    "amplitudes <- 100 * (1:400)\n",
    "phase_shifts <- (0.01) * (25:199)\n",
    "period <- 6\n",
    "\n",
    "\n",
    "a_df <- data.frame(amplitudes)\n",
    "p_df <- data.frame(phase_shifts)"
   ],
   "outputs": [],
   "metadata": {}
  },
  {
   "cell_type": "markdown",
   "source": [],
   "metadata": {}
  },
  {
   "cell_type": "code",
   "execution_count": 71,
   "source": [
    "test_df <- tidyr::crossing(a_df, p_df)\n",
    "test_df$b <- 6\n",
    "summary(test_df)"
   ],
   "outputs": [
    {
     "output_type": "display_data",
     "data": {
      "text/plain": [
       "   amplitudes     phase_shifts        b    \n",
       " Min.   :  100   Min.   :0.25   Min.   :6  \n",
       " 1st Qu.:10075   1st Qu.:0.68   1st Qu.:6  \n",
       " Median :20050   Median :1.12   Median :6  \n",
       " Mean   :20050   Mean   :1.12   Mean   :6  \n",
       " 3rd Qu.:30025   3rd Qu.:1.56   3rd Qu.:6  \n",
       " Max.   :40000   Max.   :1.99   Max.   :6  "
      ]
     },
     "metadata": {}
    }
   ],
   "metadata": {}
  },
  {
   "cell_type": "markdown",
   "source": [],
   "metadata": {}
  },
  {
   "cell_type": "markdown",
   "source": [
    "starting population, max, min, period, time from start to first min/max"
   ],
   "metadata": {}
  },
  {
   "cell_type": "code",
   "execution_count": 72,
   "source": [
    "results <- test_df %>% \n",
    "    filter( amplitudes < 1500) %>%\n",
    "    filter( phase_shifts > 1) %>% \n",
    "    filter(., check_intercept(amplitudes, phase_shifts, b)) %>%\n",
    "    as.data.frame()"
   ],
   "outputs": [],
   "metadata": {}
  },
  {
   "cell_type": "code",
   "execution_count": 74,
   "source": [
    "print(results, digits = 5)"
   ],
   "outputs": [
    {
     "output_type": "stream",
     "name": "stdout",
     "text": [
      "   amplitudes phase_shifts b\n",
      "1         100          1.2 6\n",
      "2         100          1.5 6\n",
      "3         200          1.2 6\n",
      "4         200          1.5 6\n",
      "5         300          1.2 6\n",
      "6         300          1.5 6\n",
      "7         400          1.2 6\n",
      "8         400          1.5 6\n",
      "9         500          1.2 6\n",
      "10        500          1.5 6\n",
      "11        600          1.2 6\n",
      "12        600          1.5 6\n",
      "13        700          1.2 6\n",
      "14        700          1.5 6\n",
      "15        800          1.2 6\n",
      "16        800          1.5 6\n",
      "17        900          1.2 6\n",
      "18        900          1.5 6\n",
      "19       1000          1.2 6\n",
      "20       1000          1.5 6\n",
      "21       1100          1.2 6\n",
      "22       1100          1.5 6\n",
      "23       1200          1.2 6\n",
      "24       1200          1.5 6\n",
      "25       1300          1.2 6\n",
      "26       1300          1.5 6\n",
      "27       1400          1.2 6\n",
      "28       1400          1.5 6\n"
     ]
    }
   ],
   "metadata": {}
  },
  {
   "cell_type": "markdown",
   "source": [
    "Set Version: \n"
   ],
   "metadata": {}
  }
 ],
 "metadata": {
  "orig_nbformat": 4,
  "language_info": {
   "name": "R",
   "codemirror_mode": "r",
   "pygments_lexer": "r",
   "mimetype": "text/x-r-source",
   "file_extension": ".r",
   "version": "4.1.0"
  },
  "kernelspec": {
   "name": "ir",
   "display_name": "R",
   "language": "R"
  }
 },
 "nbformat": 4,
 "nbformat_minor": 2
}